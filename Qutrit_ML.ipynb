{
 "cells": [
  {
   "attachments": {},
   "cell_type": "markdown",
   "metadata": {},
   "source": [
    "# Qutrit Machine Learning Optimizaiton "
   ]
  },
  {
   "attachments": {},
   "cell_type": "markdown",
   "metadata": {},
   "source": [
    "Author: Bora Basyildiz"
   ]
  },
  {
   "attachments": {},
   "cell_type": "markdown",
   "metadata": {},
   "source": [
    "## Imports"
   ]
  },
  {
   "cell_type": "code",
   "execution_count": 45,
   "metadata": {},
   "outputs": [],
   "source": [
    "import torch\n",
    "import numpy as np\n",
    "from itertools import permutations\n",
    "from itertools import product\n",
    "import matplotlib.pyplot as plt\n",
    "import random\n",
    "import os\n",
    "import shutil\n",
    "import pandas as pd"
   ]
  },
  {
   "attachments": {},
   "cell_type": "markdown",
   "metadata": {},
   "source": [
    "## Qutrit Fidelity Calculation"
   ]
  },
  {
   "cell_type": "code",
   "execution_count": 4,
   "metadata": {},
   "outputs": [],
   "source": [
    "def fidelity_Qutrit(J,B,M,input_gate,t,N_iter):\n",
    "    #!/usr/bin/env python3\n",
    "    # -*- coding: utf-8 -*-\n",
    "    \"\"\"\n",
    "    Created on Mon Aug 16 4:33 2021\n",
    "\n",
    "    @author: Bora & Alex\n",
    "\n",
    "    This function extends the architecture from \n",
    "    \"\"\"\n",
    "    #imports\n",
    "\n",
    "    #Gell-Mann Matricies \n",
    "    l1 = np.array([[0, 1, 0], [1, 0, 0], [0, 0, 0]]) #~X for 0->1 transition\n",
    "    l2 = np.array([[0,-1j, 0],[1j,0, 0], [0, 0, 0]]) #~Y for 0->1 transition\n",
    "    l3 = np.array([[1, 0, 0], [0, -1, 0], [0, 0, 0]]) #~Z for qubit regime\n",
    "    l4 = np.array([[0,0,1],[0,0,0],[1,0,0]]) #~X for 0->2 transition\n",
    "    l5 = np.array([[0,0,-1j],[0,0,0],[1j,0,0]]) #~Y for 0->2 transition\n",
    "    l6 = np.array([[0,0,0],[0,0,1],[0,1,0]]) #~X for 1->2 transition\n",
    "    l7 = np.array([[0,0,0],[0,0,-1j],[0,1j,0]]) #~Y for 1->2 transition\n",
    "    l8 = 1/np.sqrt(3) * np.array([[1,0,0],[0,1,0],[0,0,-2]]) #Some sort of phase gate\n",
    "    id = np.array([[1, 0, 0],[0, 1, 0],[0, 0, 1]]) #Aye, if you don't know the identity at this point, its maybe time for another career.\n",
    "\n",
    "    # Annhilation and Creation Operators (used for PRA Hamiltonian)\n",
    "    annhilate = np.array([[0,1,0],[0,0,np.sqrt(2)],[0,0,0]])\n",
    "    create = annhilate.T\n",
    "    \n",
    "    #Function definitions \n",
    "    def zero_mat(N):#Generates matrix of zeros\n",
    "        zero_gate = np.array([[0,0,0],[0,0,0],[0,0,0]])\n",
    "        init = zero_gate\n",
    "        if N < 2:\n",
    "            return 1\n",
    "        for i in range(0,N - 1):\n",
    "            zero_gate = torch.tensor(np.kron(zero_gate,init),dtype=torch.cdouble)\n",
    "        return zero_gate\n",
    "    def sum_pauli(coef, gate):#Sums Pauli gates with coefficients \n",
    "        N = len(coef)#number of qubits\n",
    "        total_pauli = zero_mat(N)\n",
    "        #Summing all Z gates\n",
    "        for i in range(0,N):\n",
    "            pauli_temp = 1\n",
    "            for j in range(0,i):\n",
    "                pauli_temp = torch.tensor(np.kron(pauli_temp,id))\n",
    "            pauli_temp = torch.tensor(np.kron(pauli_temp,gate))\n",
    "            for j in range(i+1,N):\n",
    "                pauli_temp = torch.tensor(np.kron(pauli_temp,id))\n",
    "            total_pauli = total_pauli + coef[i]*pauli_temp\n",
    "        #return torch.tensor(total_pauli,dtype=torch.cdouble)\n",
    "        return total_pauli\n",
    "\n",
    "    #variable initializations\n",
    "    N = len(B)\n",
    "    torch.manual_seed(random.randint(0,1000))\n",
    "    dt = torch.cdouble # datatype and precision\n",
    "    infidelity_list=torch.zeros([N_iter,1])\n",
    "\n",
    "    #J coefficients gathering (only if J is in N x N matrix, otherwise set J_coef=J) <- essentially flattens the array\n",
    "    J_coef = []\n",
    "    for i in range(0,len(J) - 1):\n",
    "        for j in range(0,len(J) - i - 1):\n",
    "            J_coef.append(J[i,j].item())\n",
    "\n",
    "    #H0 generation\n",
    "    permuts = [1,1]\n",
    "    for i in range(2,N):\n",
    "        permuts.append(0)\n",
    "    permuts = list(set(permutations(permuts,N)))\n",
    "    permuts.sort()\n",
    "    permuts.reverse()#All permutations of ZZ coupling stored as bit arrays\n",
    "    H0 = zero_mat(N)\n",
    "    ##Changed gates ZZ -> XX\n",
    "    for i,u in enumerate(permuts):\n",
    "        H0_temp = 1\n",
    "        for p in u:\n",
    "            if p==1:\n",
    "                H0_temp = torch.tensor(np.kron(H0_temp,(annhilate + create)))\n",
    "            else:\n",
    "                H0_temp = torch.tensor(np.kron(H0_temp,id))\n",
    "        H0 = H0 + J_coef[i]*H0_temp\n",
    "\n",
    "    #Orthonormal Matrix Generation \n",
    "    def Matrix_Basis_Gen(d):\n",
    "        X = np.zeros([d,d])\n",
    "        for i in range(d):\n",
    "            X[(i+1) % d,i] = 1\n",
    "        Z = np.zeros([d,d],dtype=np.complex_)\n",
    "        for i in range(d):\n",
    "            Z[i,i] = np.exp((2*np.pi * 1j * i)/d)\n",
    "        Basis = []\n",
    "        for i in range(d):\n",
    "            for j in range(d):\n",
    "                Basis.append(torch.tensor(np.matmul(np.linalg.matrix_power(X,i),np.linalg.matrix_power(Z,j)),dtype=torch.cdouble))\n",
    "        return Basis\n",
    "\n",
    "    #These are the coefficients we are optimizing\n",
    "    R = torch.rand([M,4*N], dtype=torch.double) *2*np.pi # Random initialization (between 0 and 2pi)\n",
    "    R.requires_grad = True # set flag so we can backpropagate\n",
    "\n",
    "    #Optimizer settings(can be changed & opttimized)\n",
    "    lr=0.3#learning rate\n",
    "\n",
    "    opt = 'SGD'  # Choose optimizer - ADAM, SGD (typical). ADAMW, ADAMax, Adadelta,  \n",
    "                        # Adagrad, Rprop, RMSprop, ASGD, also valid options.     \n",
    "    sched = 'Plateau'  # Choose learning rate scheduler - Plateau, Exponential (typical), Step\n",
    "    \n",
    "    if opt=='ADAM': optimizer = torch.optim.Adam([R], lr = lr, weight_decay=1e-6)\n",
    "    elif opt=='ADAMW': optimizer = torch.optim.AdamW([R], lr = lr, weight_decay=0.01)\n",
    "    elif opt=='ADAMax': optimizer = torch.optim.Adamax([R], lr = lr, weight_decay=0.01)\n",
    "    elif opt=='RMSprop': optimizer = torch.optim.RMSprop([R], lr = lr, momentum=0.2)\n",
    "    elif opt=='Rprop': optimizer = torch.optim.Rprop([R], lr = lr)\n",
    "    elif opt=='Adadelta': optimizer = torch.optim.Adadelta([R], lr = lr) \n",
    "    elif opt=='Adagrad': optimizer = torch.optim.Adagrad([R], lr = lr)\n",
    "    elif opt=='SGD': optimizer = torch.optim.SGD([R], lr = lr, momentum=0.99, nesterov=True)\n",
    "    elif opt=='ASGD': optimizer = torch.optim.ASGD([R], lr = lr)\n",
    "    else: optimizer=None; opt='None'\n",
    "        \n",
    "    if sched=='Step': scheduler = torch.optim.lr_scheduler.StepLR(optimizer, step_size=N_iter/10, gamma=0.9)\n",
    "    elif sched=='Exponential': scheduler=torch.optim.lr_scheduler.ExponentialLR(optimizer, gamma=0.999)\n",
    "    elif sched=='Plateau': scheduler=torch.optim.lr_scheduler.ReduceLROnPlateau(optimizer, 'min',min_lr=0.03, factor=0.3 , patience= 20 ); loss_in=True; \n",
    "    else: scheduler=None; sched='None'\n",
    "\n",
    "    for n in range(0,N_iter):\n",
    "        #Creating Drive Hamilontian\n",
    "        U_Exp = 1\n",
    "        for i in range(0,N):\n",
    "            U_Exp = torch.tensor(np.kron(U_Exp,id),dtype=dt)#initializing unitary\n",
    "        for m in range(0,M):#Product of pulses\n",
    "            pulse_coef = R[m]\n",
    "            H1 = sum_pauli(pulse_coef[:N],l1) + sum_pauli(pulse_coef[N:2*N],l2) + sum_pauli(pulse_coef[2*N:3*N],l6) + sum_pauli(pulse_coef[3*N:4*N],l7) \n",
    "            U_Exp = torch.matmul(torch.matrix_exp(-1j*(H0+H1)*t/M),U_Exp)\n",
    "\n",
    "        #Fidelity calulcation given by Nielsen Paper\n",
    "        fidelity = 0\n",
    "        d = 3**N\n",
    "        \n",
    "        for U in Matrix_Basis_Gen(d):\n",
    "            ideal_U = torch.matmul(torch.matmul(input_gate,U.conj().T),(input_gate.conj().T))\n",
    "            target_U = torch.matmul(torch.matmul(U_Exp,U),(U_Exp.conj().T)) # This is Eps(U) = pulse_gate * pauli * pulse_gate^H\n",
    "            tr = torch.trace(torch.matmul(ideal_U,target_U))\n",
    "            fidelity = fidelity + tr \n",
    "        fidelity = abs(fidelity + d**2)/(d**2 *(d+1))    \n",
    "        infidelity = 1 - fidelity\n",
    "        infidelity_list[n] = infidelity.detach()\n",
    "        infidelity.backward()\n",
    "\n",
    "        #Printing statement\n",
    "        if (n+1)%1000==0: \n",
    "            print('Itertation ', str(n+1), ' out of ', str(N_iter), 'complete. Avg Infidelity: ', str(infidelity.item()))\n",
    "\n",
    "        #optimizer \n",
    "        if optimizer is not None and scheduler is None:  # Update R\n",
    "            optimizer.step()\n",
    "            optimizer.zero_grad()\n",
    "        elif optimizer is not None and scheduler is not None:\n",
    "            optimizer.step()\n",
    "            if loss_in: \n",
    "                scheduler.step(infidelity)\n",
    "            else: \n",
    "                scheduler.step()\n",
    "            optimizer.zero_grad()\n",
    "        else:\n",
    "            R.data.sub_(lr*R.grad.data) # using data avoids overwriting tensor object\n",
    "            R.grad.data.zero_()           # and it's respective grad info\n",
    "    \n",
    "    #print('The infidelity of the generated gate is: ' + str(infidelity_list.min().item()))\n",
    "    #return R\n",
    "    return infidelity_list.min().item()"
   ]
  },
  {
   "cell_type": "code",
   "execution_count": 26,
   "metadata": {},
   "outputs": [],
   "source": [
    "def fidelity_subQutrit(J,B,M,input_gate,t,N_iter,pulse_file):\n",
    "    #!/usr/bin/env python3\n",
    "    # -*- coding: utf-8 -*-\n",
    "    \"\"\"\n",
    "    Created on Mon Aug 16 4:33 2021\n",
    "\n",
    "    @author: Bora & Alex\n",
    "\n",
    "\n",
    "    This function is essentially the qubit optimization done by Alex & I in Joel's experiment. But now we have drives from the |0> -> |1> and |1> -> |2>. \n",
    "    We still are generating 2-qubit gates, but the inclusion of qutrit drives minimizes the generation time. See PRA paper promising initial results.  \n",
    "    \"\"\"\n",
    "    #imports\n",
    "\n",
    "    #Experimental Parameters\n",
    "    g = 1\n",
    "    maxFreq = 5*g\n",
    "\n",
    "    #Pauli Matricies in Qutrit space\n",
    "    sx = np.array([[0, 1, 0], [1, 0, 0], [0, 0, 0]]) \n",
    "    sy = np.array([[0,-1j, 0],[1j,0, 0], [0, 0, 0]]) \n",
    "    sz = np.array([[1, 0, 0], [0, -1, 0], [0, 0, 0]]) \n",
    "    id = np.array([[1, 0, 0],[0, 1, 0],[0, 0, 0]]) # note that the identity does not have a value in the |2> state. This is because we want our gates only to operate in the qubit space. \n",
    "\n",
    "    # Annhilation and Creation Operators (for PRA Hamiltonian)\n",
    "    annhilate = np.array([[0,1,0],[0,0,np.sqrt(2)],[0,0,0]])\n",
    "    create = annhilate.T\n",
    "\n",
    "    # Drives for Qutrit transitions (Gell-Mann Matrices)\n",
    "    sxx = np.array([[0,0,0],[0,0,1],[0,1,0]]) #~X for 1->2 transition\n",
    "    syy = np.array([[0,0,0],[0,0,-1j],[0,1j,0]]) #~Y for 1->2 transition\n",
    "    \n",
    "    #Function definitions \n",
    "    def zero_mat(N):#Generates matrix of zeros\n",
    "        zero_gate = np.array([[0,0,0],[0,0,0],[0,0,0]])\n",
    "        init = zero_gate\n",
    "        if N < 2:\n",
    "            return 1\n",
    "        for i in range(0,N - 1):\n",
    "            zero_gate = torch.tensor(np.kron(zero_gate,init))\n",
    "        return zero_gate\n",
    "    def sum_pauli(coef, gate):#Sums Pauli gates with coefficients \n",
    "        N = len(coef)#number of qubits\n",
    "        total_pauli = zero_mat(N)\n",
    "        #Summing all Z gates\n",
    "        for i in range(0,N):\n",
    "            pauli_temp = 1\n",
    "            for j in range(0,i):\n",
    "                pauli_temp = torch.tensor(np.kron(pauli_temp,id))\n",
    "            pauli_temp = torch.tensor(np.kron(pauli_temp,gate))\n",
    "            for j in range(i+1,N):\n",
    "                pauli_temp = torch.tensor(np.kron(pauli_temp,id))\n",
    "            #total_pauli = total_pauli + maxFreq*torch.cos(coef[i])*pauli_temp\n",
    "            total_pauli = total_pauli + coef[i]*pauli_temp\n",
    "        return total_pauli\n",
    "\n",
    "    #variable initializations\n",
    "    N = len(B)\n",
    "    #torch.manual_seed(9)\n",
    "    torch.manual_seed(random.randint(0,1000))\n",
    "    dt = torch.cdouble # datatype and precision\n",
    "    infidelity_list=torch.zeros([N_iter,1])\n",
    "\n",
    "    #J coefficients gathering (only if J is in N x N matrix, otherwise set J_coef=J) <- essentially flattens the array\n",
    "    J_coef = []\n",
    "    for i in range(0,len(J) - 1):\n",
    "        for j in range(0,len(J) - i - 1):\n",
    "            J_coef.append(J[i,j].item())\n",
    "\n",
    "    #H0 generation\n",
    "    permuts = [1,1]\n",
    "    for i in range(2,N):\n",
    "        permuts.append(0)\n",
    "    permuts = list(set(permutations(permuts,N)))\n",
    "    permuts.sort()\n",
    "    permuts.reverse()#All permutations of coupling stored as bit arrays\n",
    "    H0 = torch.tensor(zero_mat(N),dtype=torch.cdouble)\n",
    "    eigen_energies = [0, 5.440, 10.681, 4.994, 10.433, 15.666, 9.832, 15.270, 20.506] # experimentally given by Ray's Group\n",
    "    #Diagonal energies of Hamiltonian\n",
    "    for i,e in enumerate(eigen_energies):\n",
    "        H0[i,i] = float(e)\n",
    "\n",
    "    #Coupling terms in Hamiltonian (g1(|01><10| + h.c.) + g2(|12><21| + h.c.)\n",
    "    g1 = g #What are the values fo g1 are g2? \n",
    "    g2 = g1\n",
    "    one_transition = np.outer(np.array([0,1,0,0,0,0,0,0,0]),np.array([0,0,0,1,0,0,0,0,0])) \n",
    "    two_transition = np.outer(np.array([0,0,0,0,1,0,0,0,0]),np.array([0,0,0,0,0,0,0,1,0])) \n",
    "    coupling = g1*(torch.tensor(one_transition + np.conjugate(one_transition).T)) + g2*(torch.tensor(two_transition + np.conjugate(two_transition).T))\n",
    "    #H0 = H0 + coupling\n",
    "    H0 = coupling\n",
    "    #for i,u in enumerate(permuts): # This is the Hamiltonian from the Ashabb paper \n",
    "    #    Coupling_temp = 1\n",
    "    #    for p in u:\n",
    "    #        if p==1:\n",
    "    #            Coupling_temp = torch.tensor(np.kron(Coupling_temp,annhilate + create))\n",
    "    #        else:\n",
    "    #            Coupling_temp = torch.tensor(np.kron(Coupling_temp,id))\n",
    "    #    H0 = H0 + J_coef[i]*Coupling_temp\n",
    "\n",
    "    #Unitary group generation\n",
    "    SU = []\n",
    "    pauli_int = [1,2,3,4]\n",
    "    perms = list(product(pauli_int,repeat=N))#all permutations of paulis\n",
    "    for p in perms:#mapping integers to pauli \n",
    "        unitary = 1\n",
    "        for pauli in p:\n",
    "            if pauli == 1:\n",
    "                unitary = torch.tensor(np.kron(unitary,sx),dtype=torch.cdouble)\n",
    "            elif pauli == 2:\n",
    "                unitary = torch.tensor(np.kron(unitary,sy),dtype=torch.cdouble)\n",
    "            elif pauli == 3:\n",
    "                unitary = torch.tensor(np.kron(unitary,sz),dtype=torch.cdouble)\n",
    "            elif pauli == 4:\n",
    "                unitary = torch.tensor(np.kron(unitary,id),dtype=torch.cdouble)\n",
    "        SU.append(unitary)\n",
    "\n",
    "    #These are the coefficients we are optimizing\n",
    "    R = torch.rand([M,4*N], dtype=torch.double) *2*np.pi # Random initialization (between 0 and 2pi)\n",
    "    R.requires_grad = True # set flag so we can backpropagate\n",
    "\n",
    "    #Optimizer settings(can be changed & opttimized)\n",
    "    lr=0.3#learning rate\n",
    "\n",
    "    opt = 'SGD'  # Choose optimizer - ADAM, SGD (typical). ADAMW, ADAMax, Adadelta,  \n",
    "                        # Adagrad, Rprop, RMSprop, ASGD, also valid options.     \n",
    "    sched = 'Plateau'  # Choose learning rate scheduler - Plateau, Exponential (typical), Step\n",
    "    \n",
    "    if opt=='ADAM': optimizer = torch.optim.Adam([R], lr = lr, weight_decay=1e-6)\n",
    "    elif opt=='ADAMW': optimizer = torch.optim.AdamW([R], lr = lr, weight_decay=0.01)\n",
    "    elif opt=='ADAMax': optimizer = torch.optim.Adamax([R], lr = lr, weight_decay=0.01)\n",
    "    elif opt=='RMSprop': optimizer = torch.optim.RMSprop([R], lr = lr, momentum=0.2)\n",
    "    elif opt=='Rprop': optimizer = torch.optim.Rprop([R], lr = lr)\n",
    "    elif opt=='Adadelta': optimizer = torch.optim.Adadelta([R], lr = lr) \n",
    "    elif opt=='Adagrad': optimizer = torch.optim.Adagrad([R], lr = lr)\n",
    "    elif opt=='SGD': optimizer = torch.optim.SGD([R], lr = lr, momentum=0.99, nesterov=True)\n",
    "    elif opt=='ASGD': optimizer = torch.optim.ASGD([R], lr = lr)\n",
    "    else: optimizer=None; opt='None'\n",
    "        \n",
    "    if sched=='Step': scheduler = torch.optim.lr_scheduler.StepLR(optimizer, step_size=N_iter/10, gamma=0.9)\n",
    "    elif sched=='Exponential': scheduler=torch.optim.lr_scheduler.ExponentialLR(optimizer, gamma=0.999)\n",
    "    elif sched=='Plateau': scheduler=torch.optim.lr_scheduler.ReduceLROnPlateau(optimizer, 'min',min_lr=0.03, factor=0.3 , patience= 20 ); loss_in=True; \n",
    "    else: scheduler=None; sched='None'\n",
    "\n",
    "    prev_infidelity = -1\n",
    "    change_count = 0\n",
    "    for n in range(0,N_iter):\n",
    "        #Creating Drive Hamilontian\n",
    "        U_Exp = 1\n",
    "        for i in range(0,N):\n",
    "            U_Exp = torch.tensor(np.kron(U_Exp,id),dtype=dt)#initializing unitary\n",
    "        for m in range(0,M):#Product of pulses\n",
    "            pulse_coef = R[m]\n",
    "            H1 = sum_pauli(pulse_coef[:N],sx) + sum_pauli(pulse_coef[N:2*N],sy) + sum_pauli(pulse_coef[2*N:3*N],sxx) + sum_pauli(pulse_coef[3*N:4*N],syy) \n",
    "            U_Exp = torch.matmul(torch.matrix_exp(-1j*(H0+H1)*t/M),U_Exp)\n",
    "\n",
    "        #Fidelity calulcation given by Nielsen Paper\n",
    "        fidelity = 0\n",
    "        d = 2**N\n",
    "        \n",
    "        for U in SU:\n",
    "            eps_U = torch.matmul(torch.matmul(U_Exp,U),(U_Exp.conj().T))\n",
    "            target_U = torch.matmul(torch.matmul(input_gate,(U.conj().T)),(input_gate.conj().T))\n",
    "            tr = torch.trace(torch.matmul(target_U,eps_U))\n",
    "            fidelity = fidelity + tr\n",
    "        fidelity = abs(fidelity + d*d)/(d*d*(d+1))    \n",
    "        infidelity = 1 - fidelity\n",
    "        infidelity_list[n] = infidelity.detach()\n",
    "        infidelity.backward()\n",
    "\n",
    "        #Printing statement\n",
    "        #if (n+1)%100==0: \n",
    "        #    print('Itertation ', str(n+1), ' out of ', str(N_iter), 'complete. Avg Infidelity: ', str(infidelity.item()))\n",
    "\n",
    "        #optimizer \n",
    "        if optimizer is not None and scheduler is None:  # Update R\n",
    "            optimizer.step()\n",
    "            optimizer.zero_grad()\n",
    "        elif optimizer is not None and scheduler is not None:\n",
    "            optimizer.step()\n",
    "            if loss_in: \n",
    "                scheduler.step(infidelity)\n",
    "            else: \n",
    "                scheduler.step()\n",
    "            optimizer.zero_grad()\n",
    "        else:\n",
    "            R.data.sub_(lr*R.grad.data) # using data avoids overwriting tensor object\n",
    "            R.grad.data.zero_()           # and it's respective grad info\n",
    "        \n",
    "        #Stopping Condition for a lack of change <- do pointer that there is no change for 100 iterations \n",
    "        curr_infidelity = infidelity_list[n]\n",
    "        if prev_infidelity == curr_infidelity and n != 0:\n",
    "            change_count += 1\n",
    "        else:\n",
    "            change_count = 0\n",
    "        if change_count == 100:\n",
    "           return infidelity_list.min().item()\n",
    "        prev_infidelity = curr_infidelity\n",
    "        if 1 - infidelity_list[n] >= 99.99: #Stopping condition for high fidelity iterations\n",
    "            return infidelity_list.min().item()\n",
    "    #print('The infidelity of the generated gate is: ' + str(infidelity_list.min().item()))\n",
    "    #return R\n",
    "    tmin = np.pi/4\n",
    "\n",
    "    pulse_file_time = pulse_file + \"_time\" + str(t/tmin)+\"_\"\n",
    "    np.savetxt(os.path.join(os.getcwd(),\"Pulse_Sequences/\"+pulse_file+\"/\" +pulse_file_time+\".csv\"),R.detach().numpy(),delimiter=\",\") \n",
    "    return infidelity_list.min().item()"
   ]
  },
  {
   "attachments": {},
   "cell_type": "markdown",
   "metadata": {},
   "source": [
    "## Qutrit Testing"
   ]
  },
  {
   "cell_type": "code",
   "execution_count": null,
   "metadata": {},
   "outputs": [],
   "source": [
    "CNOT_qutrit = torch.tensor([[1,0,0,0,0,0,0,0,0],[0,1,0,0,0,0,0,0,0],[0,0,1,0,0,0,0,0,0],[0,0,0,0,1,0,0,0,0],[0,0,0,1,0,0,0,0,0],[0,0,0,0,0,1,0,0,0],\n",
    "[0,0,0,0,0,0,1,0,0],[0,0,0,0,0,0,0,1,0],[0,0,0,0,0,0,0,0,1]],dtype=torch.cdouble)\n",
    "Identity = torch.tensor([[1,0,0,0,0,0,0,0,0],[0,1,0,0,0,0,0,0,0],[0,0,1,0,0,0,0,0,0],[0,0,0,1,0,0,0,0,0],[0,0,0,0,1,0,0,0,0],[0,0,0,0,0,1,0,0,0],\n",
    "[0,0,0,0,0,0,1,0,0],[0,0,0,0,0,0,0,1,0],[0,0,0,0,0,0,0,0,1]],dtype=torch.cdouble)\n",
    "J = torch.tensor([[1,1],[1,1]])\n",
    "#pulse_frequencies = fidelity_Qutrit(J,[1,1],24,CNOT_qutrit,np.pi/4,100000)\n",
    "Pulses = fidelity_subQutrit(J,[1,1],8,CNOT_qutrit,np.pi/4,100,\"test\")"
   ]
  },
  {
   "attachments": {},
   "cell_type": "markdown",
   "metadata": {},
   "source": [
    "## Graph Generation"
   ]
  },
  {
   "cell_type": "code",
   "execution_count": 27,
   "metadata": {},
   "outputs": [
    {
     "name": "stderr",
     "output_type": "stream",
     "text": [
      "/Users/borabasyildiz/opt/anaconda3/envs/py7/lib/python3.7/site-packages/ipykernel_launcher.py:77: UserWarning: To copy construct from a tensor, it is recommended to use sourceTensor.clone().detach() or sourceTensor.clone().detach().requires_grad_(True), rather than torch.tensor(sourceTensor).\n"
     ]
    },
    {
     "data": {
      "image/png": "[encoded data removed]",
      "text/plain": [
       "<Figure size 432x288 with 1 Axes>"
      ]
     },
     "metadata": {
      "needs_background": "light"
     },
     "output_type": "display_data"
    }
   ],
   "source": [
    "#Qutrit Subsystem Graph Generation \n",
    "\n",
    "#Gate and ferromagnetic variables\n",
    "CNOT_qutrit = torch.tensor([[1,0,0,0,0,0,0,0,0],[0,1,0,0,0,0,0,0,0],[0,0,1,0,0,0,0,0,0],[0,0,0,0,1,0,0,0,0],[0,0,0,1,0,0,0,0,0],[0,0,0,0,0,1,0,0,0],\n",
    "[0,0,0,0,0,0,1,0,0],[0,0,0,0,0,0,0,1,0],[0,0,0,0,0,0,0,0,1]],dtype=torch.cdouble)\n",
    "J = torch.tensor([[1,1],[1,1]])\n",
    "\n",
    "#Iteration variables \n",
    "Fidelities = []\n",
    "Times = []\n",
    "points = np.linspace(0,0.2*np.pi/4,20)\n",
    "points = np.append(points, np.linspace(0.3*np.pi/4,np.pi/4,10))\n",
    "iteration_count = 10000\n",
    "\n",
    "#File Creation \n",
    "Pulse_file = \"CNOT_Qutrit_Experimental_noDiag\"\n",
    "try:\n",
    "    os.makedirs(\"Pulse_Sequences/\"+Pulse_file)\n",
    "except:\n",
    "    shutil.rmtree(\"Pulse_Sequences/\"+Pulse_file)\n",
    "    os.makedirs(\"Pulse_Sequences/\"+Pulse_file)\n",
    "\n",
    "#Generating Points\n",
    "for t in points:\n",
    "    Times.append(t/(np.pi/4))\n",
    "    Fidelities.append(1 - fidelity_subQutrit(J,[1,1],16,CNOT_qutrit,t,iteration_count,Pulse_file))\n",
    "\n",
    "#Saving Fidelities\n",
    "np.savetxt(os.path.join(os.getcwd(),\"Data\",Pulse_file+\".csv\"),Fidelities,delimiter=\",\")\n",
    "\n",
    "#plotting \n",
    "plt.plot(Times,Fidelities,'o-')\n",
    "plt.xlabel(\"T/Tmin\")\n",
    "plt.ylabel(\"Fidelity\")\n",
    "plt.title(\"CNOT Fidelity for Qutrit System with finite drive\")\n",
    "plt.grid(which='major', linestyle='-', linewidth='0.5')\n",
    "plt.grid(which='minor', linestyle='dotted', linewidth='0.5')\n",
    "plt.minorticks_on()\n",
    "plt.savefig(os.path.join(os.getcwd(),\"Figures\",Pulse_file+\".pdf\"), format=\"pdf\")"
   ]
  },
  {
   "cell_type": "code",
   "execution_count": 30,
   "metadata": {},
   "outputs": [],
   "source": [
    "pulses = np.loadtxt(\"Pulse_Sequences/CNOT_Qutrit_Experimental_couplingOn/CNOT_Qutrit_Experimental_couplingOn_time0.37777777777777777_.csv\",delimiter=\",\",dtype=float)"
   ]
  },
  {
   "cell_type": "code",
   "execution_count": 34,
   "metadata": {},
   "outputs": [
    {
     "name": "stdout",
     "output_type": "stream",
     "text": [
      "For our single qubit drive strength for Dr. Simmonds Hamiltonian, we have the follow description of the generated pulses\n",
      "Our max pulse is 21.60859210012844\n",
      "The average pulse strength is 2.8030343650743914\n"
     ]
    }
   ],
   "source": [
    "print(\"For our single qubit drive strength for Dr. Simmonds Hamiltonian, we have the follow description of the generated pulses\")\n",
    "print(\"Our max pulse is \" + str(pulses.max()))\n",
    "print(\"The average pulse strength is \" + str(pulses.mean()))"
   ]
  },
  {
   "cell_type": "code",
   "execution_count": 46,
   "metadata": {},
   "outputs": [],
   "source": [
    "pulseDF = pd.DataFrame(pulses.flatten())"
   ]
  },
  {
   "cell_type": "code",
   "execution_count": 51,
   "metadata": {},
   "outputs": [
    {
     "data": {
      "image/png": "[encoded data removed]",
      "text/plain": [
       "<Figure size 432x288 with 1 Axes>"
      ]
     },
     "metadata": {
      "needs_background": "light"
     },
     "output_type": "display_data"
    },
    {
     "data": {
      "image/png": "[encoded data removed]",
      "text/plain": [
       "<Figure size 432x288 with 1 Axes>"
      ]
     },
     "metadata": {
      "needs_background": "light"
     },
     "output_type": "display_data"
    },
    {
     "data": {
      "image/png": "[encoded data removed]",
      "text/plain": [
       "<Figure size 432x288 with 1 Axes>"
      ]
     },
     "metadata": {
      "needs_background": "light"
     },
     "output_type": "display_data"
    }
   ],
   "source": [
    "fig, ax = plt.subplots(figsize = (6,4))\n",
    "pulseDF.plot(kind = \"hist\", density = True, bins = 15) # change density to true, because KDE uses density\n",
    "    # Plot KDE\n",
    "pulseDF.plot(kind = \"kde\")\n",
    "plt.show()"
   ]
  },
  {
   "cell_type": "code",
   "execution_count": 84,
   "metadata": {},
   "outputs": [
    {
     "data": {
      "text/plain": [
       "<Figure size 432x288 with 0 Axes>"
      ]
     },
     "metadata": {},
     "output_type": "display_data"
    },
    {
     "data": {
      "image/png": "[encoded data removed]",
      "text/plain": [
       "<Figure size 432x288 with 1 Axes>"
      ]
     },
     "metadata": {
      "needs_background": "light"
     },
     "output_type": "display_data"
    }
   ],
   "source": [
    "fig=plt.figure()\n",
    "\n",
    "# Plots #\n",
    "    # Plot histogram\n",
    "ax = pulseDF.plot(kind = \"hist\", density = True, bins = 15) # change density to true, because KDE uses density\n",
    "    # Plot KDE\n",
    "pulseDF.plot(kind = \"kde\",ax=ax,color=\"DarkRed\")\n",
    "\n",
    "# X #\n",
    "ax.set_xlim(-25,25)\n",
    "\n",
    "\n",
    "# Overall #\n",
    "ax.set_title(\"Distribution of Pulse Strengths\")\n",
    "ax.set_xlabel(\"Pulse Strength\")\n",
    "ax.set_ylabel(\"Pulse Density\")\n",
    "\n",
    "plt.show()"
   ]
  },
  {
   "cell_type": "code",
   "execution_count": null,
   "metadata": {},
   "outputs": [],
   "source": []
  }
 ],
 "metadata": {
  "kernelspec": {
   "display_name": "py7",
   "language": "python",
   "name": "python3"
  },
  "language_info": {
   "codemirror_mode": {
    "name": "ipython",
    "version": 3
   },
   "file_extension": ".py",
   "mimetype": "text/x-python",
   "name": "python",
   "nbconvert_exporter": "python",
   "pygments_lexer": "ipython3",
   "version": "3.7.9"
  },
  "orig_nbformat": 4,
  "vscode": {
   "interpreter": {
    "hash": "efa8cc2a4d6f65357a972a944fbd3e02e547e4ca88e36cc716fc5e5cc822571e"
   }
  }
 },
 "nbformat": 4,
 "nbformat_minor": 2
}
