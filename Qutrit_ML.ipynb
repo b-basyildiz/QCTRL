{
 "cells": [
  {
   "attachments": {},
   "cell_type": "markdown",
   "metadata": {},
   "source": [
    "# Qutrit Machine Learning Optimizaiton "
   ]
  },
  {
   "attachments": {},
   "cell_type": "markdown",
   "metadata": {},
   "source": [
    "Author: Bora Basyildiz"
   ]
  },
  {
   "attachments": {},
   "cell_type": "markdown",
   "metadata": {},
   "source": [
    "## Imports"
   ]
  },
  {
   "cell_type": "code",
   "execution_count": 15,
   "metadata": {},
   "outputs": [],
   "source": [
    "import torch\n",
    "import numpy as np\n",
    "from itertools import permutations\n",
    "from itertools import product\n",
    "import matplotlib.pyplot as plt\n",
    "from math import sqrt"
   ]
  },
  {
   "attachments": {},
   "cell_type": "markdown",
   "metadata": {},
   "source": [
    "## Fidelity Calculation"
   ]
  },
  {
   "cell_type": "code",
   "execution_count": 111,
   "metadata": {},
   "outputs": [],
   "source": [
    "def fidelity_Qutrit(J,B,M,target_gate,t,N_iter):\n",
    "    #!/usr/bin/env python3\n",
    "    # -*- coding: utf-8 -*-\n",
    "    \"\"\"\n",
    "    Created on Mon Aug 16 4:33 2021\n",
    "\n",
    "    @author: Bora & Alex\n",
    "    \"\"\"\n",
    "\n",
    "    #Qutrit Gellmann Matricies, Pauli Matrix equivalents \n",
    "    sx = np.array([[0, 1, 0], [1, 0, 0], [0, 0, 0]]) \n",
    "    sy = np.array([[0,-1j, 0],[1j,0, 0], [0, 0, 0]]) \n",
    "    sz = np.array([[1, 0, 0], [0, -1, 0], [0, 0, 0]]) \n",
    "    l4 = np.array([[0,0,1],[0,0,0],[1,0,0]])\n",
    "    l5 = np.array([[0,0,-1j],[0,0,0],[1j,0,0]])\n",
    "    l6 = np.array([[0,0,0],[0,0,1],[0,1,0]])\n",
    "    l7 = np.array([[0,0,0],[0,0,-1j],[0,1j,0]])\n",
    "    l8 = 1/np.sqrt(3) * np.array([[1,0,0],[0,1,0],[0,0,-2]])\n",
    "    id = np.array([[1, 0, 0],[0, 1, 0],[0, 0, 0]])\n",
    "\n",
    "    #Sigma +/- for example paper \n",
    "    raiseOne = np.array([[0,0,0],[1,0,0],[0,0,0]])\n",
    "    raiseTwo = np.array([[0,0,0],[0,0,0],[0,1,0]])\n",
    "\n",
    "    # Annhilation and Creation Operators\n",
    "    annhilate = np.array([[0,1,0],[0,0,sqrt(2)],[0,0,0]])\n",
    "    create = annhilate.T\n",
    "    \n",
    "\n",
    "    #Generates matrix of zeros\n",
    "    def zero_mat(N):\n",
    "        zero_gate = np.array([[0,0,0],[0,0,0],[0,0,0]])\n",
    "        init = zero_gate\n",
    "        if N < 2:\n",
    "            return 1\n",
    "        for i in range(0,N - 1):\n",
    "            zero_gate = torch.tensor(np.kron(zero_gate,init))\n",
    "        return zero_gate\n",
    "    \n",
    "    \n",
    "    #Sums Pauli gates with coefficients (used for X & Y pulses with optimizer coef.)\n",
    "    def sum_pauli(coef, gate):\n",
    "        N = len(coef)#number of qubits\n",
    "        total_pauli = zero_mat(N)\n",
    "        #Summing all Z gates\n",
    "        for i in range(0,N):\n",
    "            pauli_temp = 1\n",
    "            for j in range(0,i):\n",
    "                pauli_temp = torch.tensor(np.kron(pauli_temp,id))\n",
    "            pauli_temp = torch.tensor(np.kron(pauli_temp,gate))\n",
    "            for j in range(i+1,N):\n",
    "                pauli_temp = torch.tensor(np.kron(pauli_temp,id))\n",
    "            total_pauli = total_pauli + coef[i]*pauli_temp\n",
    "        return total_pauli\n",
    "\n",
    "    #Variable initializations\n",
    "    N = len(B)\n",
    "    torch.manual_seed(9)\n",
    "    dt = torch.cdouble # datatype and precision\n",
    "    infidelity_list=torch.zeros([N_iter,1])\n",
    "\n",
    "    #J coefficients gathering (only if J is in N x N matrix, otherwise set J_coef=J) <- essentially flattens the array\n",
    "    J_coef = []\n",
    "    for i in range(0,len(J) - 1):\n",
    "        for j in range(0,len(J) - i - 1):\n",
    "            J_coef.append(J[i,j].item())\n",
    "\n",
    "    #H0 generation, gets all permutations of 2-body coupling \n",
    "    permuts = [1,1]\n",
    "    for i in range(2,N):\n",
    "        permuts.append(0)\n",
    "    permuts = list(set(permutations(permuts,N)))\n",
    "    permuts.sort()\n",
    "    permuts.reverse()#All permutations of ZZ coupling stored as bit arrays\n",
    "    H0 = zero_mat(N)\n",
    "\n",
    "    #Generating Static Hamiltonian\n",
    "    for i,u in enumerate(permuts):\n",
    "        H0_temp = 1\n",
    "        for p in u:\n",
    "            if p==1:\n",
    "                H0_temp = torch.tensor(np.kron(H0_temp,(annhilate + create)))\n",
    "            else:\n",
    "                H0_temp = torch.tensor(np.kron(H0_temp,id))\n",
    "        H0 = H0 + J_coef[i]*H0_temp\n",
    "    print(H0)\n",
    "\n",
    "    #Generating Energy Levels \n",
    "    #H0 = H0 + sum_pauli(B,sz) <- Original from Alexs code. \n",
    "\n",
    "    #Unitary group generation (used for fidelity calculation)\n",
    "    SU = []\n",
    "    pauli_int = [1, 2, 3, 4, 5, 6, 7, 8, 9]#eq to [sx,sy,sz,id] -> [Gelman Matrix set]\n",
    "    #pauli_int = [1,2,3,4]\n",
    "    perms = list(product(pauli_int,repeat=N))#all permutations of paulis\n",
    "    for p in perms:#mapping integers to pauli \n",
    "        unitary = 1\n",
    "        for pauli in p:\n",
    "            if pauli == 1:\n",
    "                unitary = torch.tensor(np.kron(unitary,sx),dtype=torch.cdouble)\n",
    "            elif pauli == 2:\n",
    "                unitary = torch.tensor(np.kron(unitary,sy),dtype=torch.cdouble)\n",
    "            elif pauli == 3:\n",
    "                unitary = torch.tensor(np.kron(unitary,sz),dtype=torch.cdouble)\n",
    "            elif pauli == 4:\n",
    "                unitary = torch.tensor(np.kron(unitary,id),dtype=torch.cdouble)\n",
    "            elif pauli == 5:\n",
    "                unitary = torch.tensor(np.kron(unitary,l5),dtype=torch.cdouble)\n",
    "            elif pauli == 6:\n",
    "                unitary = torch.tensor(np.kron(unitary,l6),dtype=torch.cdouble)\n",
    "            elif pauli == 7:\n",
    "                unitary = torch.tensor(np.kron(unitary,l7),dtype=torch.cdouble)\n",
    "            elif pauli == 8:\n",
    "                unitary = torch.tensor(np.kron(unitary,l8),dtype=torch.cdouble)\n",
    "            elif pauli == 9:\n",
    "                unitary = torch.tensor(np.kron(unitary,l4),dtype=torch.cdouble)\n",
    "        SU.append(unitary)\n",
    "\n",
    "    # MACHINE LEARNING STUFF\n",
    "\n",
    "    #These are the coefficients we are optimizing\n",
    "    R = torch.rand([M,2*N], dtype=torch.double) *2*np.pi # Random initialization (between 0 and 2pi)\n",
    "    R.requires_grad = True # set flag so we can backpropagate\n",
    "    #Optimizer settings(can be changed & opttimized)\n",
    "    lr=0.3#learning rate\n",
    "    opt = 'SGD'  # Choose optimizer - ADAM, SGD (typical). ADAMW, ADAMax, Adadelta,  \n",
    "                        # Adagrad, Rprop, RMSprop, ASGD, also valid options.     \n",
    "    sched = 'Plateau'  # Choose learning rate scheduler - Plateau, Exponential (typical), Step\n",
    "    if opt=='ADAM': optimizer = torch.optim.Adam([R], lr = lr, weight_decay=1e-6)\n",
    "    elif opt=='ADAMW': optimizer = torch.optim.AdamW([R], lr = lr, weight_decay=0.01)\n",
    "    elif opt=='ADAMax': optimizer = torch.optim.Adamax([R], lr = lr, weight_decay=0.01)\n",
    "    elif opt=='RMSprop': optimizer = torch.optim.RMSprop([R], lr = lr, momentum=0.2)\n",
    "    elif opt=='Rprop': optimizer = torch.optim.Rprop([R], lr = lr)\n",
    "    elif opt=='Adadelta': optimizer = torch.optim.Adadelta([R], lr = lr) \n",
    "    elif opt=='Adagrad': optimizer = torch.optim.Adagrad([R], lr = lr)\n",
    "    elif opt=='SGD': optimizer = torch.optim.SGD([R], lr = lr, momentum=0.99, nesterov=True)\n",
    "    elif opt=='ASGD': optimizer = torch.optim.ASGD([R], lr = lr)\n",
    "    else: optimizer=None; opt='None'\n",
    "        \n",
    "    if sched=='Step': scheduler = torch.optim.lr_scheduler.StepLR(optimizer, step_size=N_iter/10, gamma=0.9)\n",
    "    elif sched=='Exponential': scheduler=torch.optim.lr_scheduler.ExponentialLR(optimizer, gamma=0.999)\n",
    "    elif sched=='Plateau': scheduler=torch.optim.lr_scheduler.ReduceLROnPlateau(optimizer, 'min',min_lr=0.03, factor=0.3 , patience= 20 ); loss_in=True; \n",
    "    else: scheduler=None; sched='None'\n",
    "\n",
    "    # END MACHINE LEARNING STUFF\n",
    "\n",
    "\n",
    "    #Finding Optimal Pulses\n",
    "    for n in range(0,N_iter):\n",
    "        #Creating Drive Hamilontian\n",
    "        U_Exp = 1\n",
    "        for i in range(0,N):\n",
    "            U_Exp = torch.tensor(np.kron(U_Exp,id),dtype=dt)#initializing unitary\n",
    "\n",
    "        for m in range(0,M):#Product of pulses\n",
    "            pulse_coef = R[m] \n",
    "            H1 = sum_pauli(pulse_coef[:N],raiseOne + raiseOne.T) + sum_pauli(pulse_coef[N:],sqrt(2)*(raiseTwo + raiseTwo.T))\n",
    "            U_Exp = torch.matmul(torch.matrix_exp(-1j*(H0+H1)*t/M),U_Exp)\n",
    "\n",
    "        #Fidelity calulcation given by Nielsen Paper\n",
    "        fidelity = 0\n",
    "        d = 3**N\n",
    "        \n",
    "        for U in SU:\n",
    "            eps_U = torch.matmul(torch.matmul(U_Exp,U),(U_Exp.conj().T))\n",
    "            target_U = torch.matmul(torch.matmul(target_gate,(U.conj().T)),(target_gate.conj().T))\n",
    "            tr = torch.trace(torch.matmul(target_U,eps_U))\n",
    "            fidelity = fidelity + tr\n",
    "        fidelity = abs(fidelity + d*d)/(d*d*(d+1))    \n",
    "        infidelity = 1 - fidelity\n",
    "        infidelity_list[n] = infidelity.detach()\n",
    "        infidelity.backward()\n",
    "\n",
    "        #Printing statement\n",
    "        if (n+1)%100==0: \n",
    "            print('Itertation ', str(n+1), ' out of ', str(N_iter), 'complete. Avg Infidelity: ', str(infidelity.item()))\n",
    "\n",
    "        #optimizer \n",
    "        if optimizer is not None and scheduler is None:  # Update R\n",
    "            optimizer.step()\n",
    "            optimizer.zero_grad()\n",
    "        elif optimizer is not None and scheduler is not None:\n",
    "            optimizer.step()\n",
    "            if loss_in: \n",
    "                scheduler.step(infidelity)\n",
    "            else: \n",
    "                scheduler.step()\n",
    "            optimizer.zero_grad()\n",
    "        else:\n",
    "            R.data.sub_(lr*R.grad.data) # using data avoids overwriting tensor object\n",
    "            R.grad.data.zero_()           # and it's respective grad info\n",
    "    \n",
    "    print('The infidelity of the generated gate is: ' + str(infidelity_list.min().item()))\n",
    "    #return R\n",
    "    return infidelity_list.min().item()"
   ]
  },
  {
   "cell_type": "code",
   "execution_count": 112,
   "metadata": {},
   "outputs": [
    {
     "name": "stdout",
     "output_type": "stream",
     "text": [
      "Qutrit Sytem reaching 99\\% fidelity in pi/4 time for CNOT\n",
      "tensor([[0.0000, 0.0000, 0.0000, 0.0000, 1.0000, 0.0000, 0.0000, 0.0000, 0.0000],\n",
      "        [0.0000, 0.0000, 0.0000, 1.0000, 0.0000, 1.4142, 0.0000, 0.0000, 0.0000],\n",
      "        [0.0000, 0.0000, 0.0000, 0.0000, 1.4142, 0.0000, 0.0000, 0.0000, 0.0000],\n",
      "        [0.0000, 1.0000, 0.0000, 0.0000, 0.0000, 0.0000, 0.0000, 1.4142, 0.0000],\n",
      "        [1.0000, 0.0000, 1.4142, 0.0000, 0.0000, 0.0000, 1.4142, 0.0000, 2.0000],\n",
      "        [0.0000, 1.4142, 0.0000, 0.0000, 0.0000, 0.0000, 0.0000, 2.0000, 0.0000],\n",
      "        [0.0000, 0.0000, 0.0000, 0.0000, 1.4142, 0.0000, 0.0000, 0.0000, 0.0000],\n",
      "        [0.0000, 0.0000, 0.0000, 1.4142, 0.0000, 2.0000, 0.0000, 0.0000, 0.0000],\n",
      "        [0.0000, 0.0000, 0.0000, 0.0000, 2.0000, 0.0000, 0.0000, 0.0000, 0.0000]],\n",
      "       dtype=torch.float64)\n",
      "Itertation  100  out of  500 complete. Avg Infidelity:  0.8717111400003361\n",
      "Itertation  200  out of  500 complete. Avg Infidelity:  0.8509162855771952\n",
      "Itertation  300  out of  500 complete. Avg Infidelity:  0.8323503147009504\n",
      "Itertation  400  out of  500 complete. Avg Infidelity:  0.8191580206058122\n",
      "Itertation  500  out of  500 complete. Avg Infidelity:  0.8151859590555959\n",
      "The infidelity of the generated gate is: 0.8151859641075134\n"
     ]
    },
    {
     "data": {
      "text/plain": [
       "0.8151859641075134"
      ]
     },
     "execution_count": 112,
     "metadata": {},
     "output_type": "execute_result"
    }
   ],
   "source": [
    "print(\"Qutrit Sytem reaching 99\\% fidelity in pi/4 time for CNOT\")\n",
    "CNOT_qutrit = torch.tensor([[1,0,0,0,0,0,0,0,0],[0,1,0,0,0,0,0,0,0],[0,0,0,0,0,0,0,0,0],[0,0,0,0,1,0,0,0,0],[0,0,0,1,0,0,0,0,0],[0,0,0,0,0,0,0,0,0],\n",
    "[0,0,0,0,0,0,0,0,0],[0,0,0,0,0,0,0,0,0],[0,0,0,0,0,0,0,0,0]],dtype=torch.cdouble)\n",
    "J = torch.tensor([[1,1],[1,1]])\n",
    "fidelity_Qutrit(J,[1,1],32,CNOT_qutrit,np.pi,500)"
   ]
  },
  {
   "cell_type": "code",
   "execution_count": 22,
   "metadata": {},
   "outputs": [],
   "source": [
    "annhilate = np.array([[0,1,0],[0,0,sqrt(2)],[0,0,0]])\n",
    "create = annhilate.T"
   ]
  },
  {
   "cell_type": "code",
   "execution_count": 20,
   "metadata": {},
   "outputs": [
    {
     "name": "stdout",
     "output_type": "stream",
     "text": [
      "[[0.         0.         0.        ]\n",
      " [1.         0.         0.        ]\n",
      " [0.         1.41421356 0.        ]]\n",
      "[[0.         1.         0.        ]\n",
      " [0.         0.         1.41421356]\n",
      " [0.         0.         0.        ]]\n"
     ]
    }
   ],
   "source": [
    "print(create)\n",
    "print(annhilate)"
   ]
  },
  {
   "cell_type": "code",
   "execution_count": null,
   "metadata": {},
   "outputs": [],
   "source": [
    "def pulse_gen(coef,N1,N2):\n",
    "    return coef[0]*"
   ]
  },
  {
   "cell_type": "code",
   "execution_count": 69,
   "metadata": {},
   "outputs": [],
   "source": [
    "def sigma_gen(trit1,trit2,N):\n",
    "    sigma = np.zeros([9,9])\n",
    "    np.concatenate([int(t) for t in trit1],[int(t) for t in trit2])\n",
    "    sigma[int(str(trit2),3),int(str(trit1),3)] = sqrt(max(np.concatenate([int(t) for t in trit1],[int(t) for t in trit2])))\n",
    "    return sigma\n"
   ]
  },
  {
   "cell_type": "code",
   "execution_count": 70,
   "metadata": {},
   "outputs": [
    {
     "ename": "TypeError",
     "evalue": "'list' object cannot be interpreted as an integer",
     "output_type": "error",
     "traceback": [
      "\u001b[0;31m---------------------------------------------------------------------------\u001b[0m",
      "\u001b[0;31mTypeError\u001b[0m                                 Traceback (most recent call last)",
      "\u001b[0;32m<ipython-input-70-175e83b90807>\u001b[0m in \u001b[0;36m<module>\u001b[0;34m\u001b[0m\n\u001b[0;32m----> 1\u001b[0;31m \u001b[0msigma_gen\u001b[0m\u001b[0;34m(\u001b[0m\u001b[0;34m\"22\"\u001b[0m\u001b[0;34m,\u001b[0m\u001b[0;34m\"21\"\u001b[0m\u001b[0;34m,\u001b[0m\u001b[0;36m2\u001b[0m\u001b[0;34m)\u001b[0m\u001b[0;34m\u001b[0m\u001b[0;34m\u001b[0m\u001b[0m\n\u001b[0m",
      "\u001b[0;32m<ipython-input-69-064a5d657e88>\u001b[0m in \u001b[0;36msigma_gen\u001b[0;34m(trit1, trit2, N)\u001b[0m\n\u001b[1;32m      3\u001b[0m     \u001b[0mtrits\u001b[0m \u001b[0;34m=\u001b[0m \u001b[0;34m[\u001b[0m\u001b[0mint\u001b[0m\u001b[0;34m(\u001b[0m\u001b[0mt\u001b[0m\u001b[0;34m)\u001b[0m \u001b[0;32mfor\u001b[0m \u001b[0mt\u001b[0m \u001b[0;32min\u001b[0m \u001b[0mtrit1\u001b[0m\u001b[0;34m]\u001b[0m\u001b[0;34m\u001b[0m\u001b[0;34m\u001b[0m\u001b[0m\n\u001b[1;32m      4\u001b[0m     \u001b[0mtrits\u001b[0m\u001b[0;34m.\u001b[0m\u001b[0mappend\u001b[0m\u001b[0;34m(\u001b[0m\u001b[0;34m[\u001b[0m\u001b[0mint\u001b[0m\u001b[0;34m(\u001b[0m\u001b[0mt\u001b[0m\u001b[0;34m)\u001b[0m \u001b[0;32mfor\u001b[0m \u001b[0mt\u001b[0m \u001b[0;32min\u001b[0m \u001b[0mtrit2\u001b[0m\u001b[0;34m]\u001b[0m\u001b[0;34m)\u001b[0m\u001b[0;34m\u001b[0m\u001b[0;34m\u001b[0m\u001b[0m\n\u001b[0;32m----> 5\u001b[0;31m     \u001b[0mnp\u001b[0m\u001b[0;34m.\u001b[0m\u001b[0mconcatenate\u001b[0m\u001b[0;34m(\u001b[0m\u001b[0;34m[\u001b[0m\u001b[0mint\u001b[0m\u001b[0;34m(\u001b[0m\u001b[0mt\u001b[0m\u001b[0;34m)\u001b[0m \u001b[0;32mfor\u001b[0m \u001b[0mt\u001b[0m \u001b[0;32min\u001b[0m \u001b[0mtrit1\u001b[0m\u001b[0;34m]\u001b[0m\u001b[0;34m,\u001b[0m\u001b[0;34m[\u001b[0m\u001b[0mint\u001b[0m\u001b[0;34m(\u001b[0m\u001b[0mt\u001b[0m\u001b[0;34m)\u001b[0m \u001b[0;32mfor\u001b[0m \u001b[0mt\u001b[0m \u001b[0;32min\u001b[0m \u001b[0mtrit2\u001b[0m\u001b[0;34m]\u001b[0m\u001b[0;34m)\u001b[0m\u001b[0;34m\u001b[0m\u001b[0;34m\u001b[0m\u001b[0m\n\u001b[0m\u001b[1;32m      6\u001b[0m     \u001b[0msigma\u001b[0m\u001b[0;34m[\u001b[0m\u001b[0mint\u001b[0m\u001b[0;34m(\u001b[0m\u001b[0mstr\u001b[0m\u001b[0;34m(\u001b[0m\u001b[0mtrit2\u001b[0m\u001b[0;34m)\u001b[0m\u001b[0;34m,\u001b[0m\u001b[0;36m3\u001b[0m\u001b[0;34m)\u001b[0m\u001b[0;34m,\u001b[0m\u001b[0mint\u001b[0m\u001b[0;34m(\u001b[0m\u001b[0mstr\u001b[0m\u001b[0;34m(\u001b[0m\u001b[0mtrit1\u001b[0m\u001b[0;34m)\u001b[0m\u001b[0;34m,\u001b[0m\u001b[0;36m3\u001b[0m\u001b[0;34m)\u001b[0m\u001b[0;34m]\u001b[0m \u001b[0;34m=\u001b[0m \u001b[0msqrt\u001b[0m\u001b[0;34m(\u001b[0m\u001b[0mmax\u001b[0m\u001b[0;34m(\u001b[0m\u001b[0mnp\u001b[0m\u001b[0;34m.\u001b[0m\u001b[0mconcatenate\u001b[0m\u001b[0;34m(\u001b[0m\u001b[0;34m[\u001b[0m\u001b[0mint\u001b[0m\u001b[0;34m(\u001b[0m\u001b[0mt\u001b[0m\u001b[0;34m)\u001b[0m \u001b[0;32mfor\u001b[0m \u001b[0mt\u001b[0m \u001b[0;32min\u001b[0m \u001b[0mtrit1\u001b[0m\u001b[0;34m]\u001b[0m\u001b[0;34m,\u001b[0m\u001b[0;34m[\u001b[0m\u001b[0mint\u001b[0m\u001b[0;34m(\u001b[0m\u001b[0mt\u001b[0m\u001b[0;34m)\u001b[0m \u001b[0;32mfor\u001b[0m \u001b[0mt\u001b[0m \u001b[0;32min\u001b[0m \u001b[0mtrit2\u001b[0m\u001b[0;34m]\u001b[0m\u001b[0;34m)\u001b[0m\u001b[0;34m)\u001b[0m\u001b[0;34m)\u001b[0m\u001b[0;34m\u001b[0m\u001b[0;34m\u001b[0m\u001b[0m\n\u001b[1;32m      7\u001b[0m     \u001b[0;32mreturn\u001b[0m \u001b[0msigma\u001b[0m\u001b[0;34m\u001b[0m\u001b[0;34m\u001b[0m\u001b[0m\n",
      "\u001b[0;32m<__array_function__ internals>\u001b[0m in \u001b[0;36mconcatenate\u001b[0;34m(*args, **kwargs)\u001b[0m\n",
      "\u001b[0;31mTypeError\u001b[0m: 'list' object cannot be interpreted as an integer"
     ]
    }
   ],
   "source": [
    "sigma_gen(\"22\",\"21\",2)"
   ]
  },
  {
   "cell_type": "code",
   "execution_count": 79,
   "metadata": {},
   "outputs": [
    {
     "data": {
      "text/plain": [
       "-10"
      ]
     },
     "execution_count": 79,
     "metadata": {},
     "output_type": "execute_result"
    }
   ],
   "source": []
  },
  {
   "cell_type": "code",
   "execution_count": 92,
   "metadata": {},
   "outputs": [
    {
     "name": "stdout",
     "output_type": "stream",
     "text": [
      "[0. 1. 0. 1. 0. 0. 0. 0. 0.]\n",
      "[1. 0. 1. 0. 0. 0. 0. 0. 0.]\n",
      "[0. 1. 0. 0. 0. 0. 0. 0. 0.]\n",
      "[1. 0. 0. 0. 1. 0. 1. 0. 0.]\n",
      "[0. 0. 0. 1. 0. 1. 0. 0. 0.]\n",
      "[0. 0. 0. 0. 1. 0. 0. 0. 0.]\n",
      "[0. 0. 0. 1. 0. 0. 0. 1. 0.]\n",
      "[0. 0. 0. 0. 0. 0. 1. 0. 1.]\n",
      "[0. 0. 0. 0. 0. 0. 0. 1. 0.]\n"
     ]
    }
   ],
   "source": [
    "sigma1 = np.zeros([9,9])\n",
    "sigma1[0,1] = 1\n",
    "\n",
    "sigma2 = np.zeros([9,9])\n",
    "sigma2[1,2] = 1\n",
    "\n",
    "sigma3 = np.zeros([9,9])\n",
    "sigma3[0,3] = 1\n",
    "\n",
    "sigma4 = np.zeros([9,9])\n",
    "sigma4[3,4] = 1\n",
    "\n",
    "sigma5 = np.zeros([9,9])\n",
    "sigma5[4,5] = 1\n",
    "\n",
    "sigma6 = np.zeros([9,9])\n",
    "sigma6[3,6] = 1\n",
    "\n",
    "sigma7 = np.zeros([9,9])\n",
    "sigma7[6,7] = 1\n",
    "\n",
    "sigma8 = np.zeros([9,9])\n",
    "sigma8[7,8] = 1\n",
    "\n",
    "H = sigma1+sigma2+sigma3+sigma4+sigma5+sigma6+sigma7+sigma8\n",
    "H = H + H.T\n",
    "for col in H:\n",
    "    print(col)"
   ]
  },
  {
   "cell_type": "code",
   "execution_count": null,
   "metadata": {},
   "outputs": [],
   "source": []
  }
 ],
 "metadata": {
  "kernelspec": {
   "display_name": "py7",
   "language": "python",
   "name": "python3"
  },
  "language_info": {
   "codemirror_mode": {
    "name": "ipython",
    "version": 3
   },
   "file_extension": ".py",
   "mimetype": "text/x-python",
   "name": "python",
   "nbconvert_exporter": "python",
   "pygments_lexer": "ipython3",
   "version": "3.7.9"
  },
  "orig_nbformat": 4,
  "vscode": {
   "interpreter": {
    "hash": "efa8cc2a4d6f65357a972a944fbd3e02e547e4ca88e36cc716fc5e5cc822571e"
   }
  }
 },
 "nbformat": 4,
 "nbformat_minor": 2
}
